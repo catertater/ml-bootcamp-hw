{
 "cells": [
  {
   "cell_type": "code",
   "execution_count": 299,
   "id": "b67c25b4-eeb7-490b-91b3-55a2264e83a7",
   "metadata": {},
   "outputs": [],
   "source": [
    "import pandas as pd\n",
    "import numpy as np\n",
    "import seaborn as sns"
   ]
  },
  {
   "cell_type": "code",
   "execution_count": 300,
   "id": "2a823ec5-9324-472a-adda-6e69c5e5e23a",
   "metadata": {},
   "outputs": [],
   "source": [
    "df_original = pd.read_csv(\"https://raw.githubusercontent.com/alexeygrigorev/datasets/master/car_fuel_efficiency.csv\")"
   ]
  },
  {
   "cell_type": "code",
   "execution_count": 301,
   "id": "eaad9c1c-5bbd-4d97-bb83-5836995309fe",
   "metadata": {},
   "outputs": [
    {
     "data": {
      "text/html": [
       "<div>\n",
       "<style scoped>\n",
       "    .dataframe tbody tr th:only-of-type {\n",
       "        vertical-align: middle;\n",
       "    }\n",
       "\n",
       "    .dataframe tbody tr th {\n",
       "        vertical-align: top;\n",
       "    }\n",
       "\n",
       "    .dataframe thead th {\n",
       "        text-align: right;\n",
       "    }\n",
       "</style>\n",
       "<table border=\"1\" class=\"dataframe\">\n",
       "  <thead>\n",
       "    <tr style=\"text-align: right;\">\n",
       "      <th></th>\n",
       "      <th>engine_displacement</th>\n",
       "      <th>num_cylinders</th>\n",
       "      <th>horsepower</th>\n",
       "      <th>vehicle_weight</th>\n",
       "      <th>acceleration</th>\n",
       "      <th>model_year</th>\n",
       "      <th>origin</th>\n",
       "      <th>fuel_type</th>\n",
       "      <th>drivetrain</th>\n",
       "      <th>num_doors</th>\n",
       "      <th>fuel_efficiency_mpg</th>\n",
       "    </tr>\n",
       "  </thead>\n",
       "  <tbody>\n",
       "    <tr>\n",
       "      <th>0</th>\n",
       "      <td>170</td>\n",
       "      <td>3.0</td>\n",
       "      <td>159.0</td>\n",
       "      <td>3413.433759</td>\n",
       "      <td>17.7</td>\n",
       "      <td>2003</td>\n",
       "      <td>Europe</td>\n",
       "      <td>Gasoline</td>\n",
       "      <td>All-wheel drive</td>\n",
       "      <td>0.0</td>\n",
       "      <td>13.231729</td>\n",
       "    </tr>\n",
       "    <tr>\n",
       "      <th>1</th>\n",
       "      <td>130</td>\n",
       "      <td>5.0</td>\n",
       "      <td>97.0</td>\n",
       "      <td>3149.664934</td>\n",
       "      <td>17.8</td>\n",
       "      <td>2007</td>\n",
       "      <td>USA</td>\n",
       "      <td>Gasoline</td>\n",
       "      <td>Front-wheel drive</td>\n",
       "      <td>0.0</td>\n",
       "      <td>13.688217</td>\n",
       "    </tr>\n",
       "    <tr>\n",
       "      <th>2</th>\n",
       "      <td>170</td>\n",
       "      <td>NaN</td>\n",
       "      <td>78.0</td>\n",
       "      <td>3079.038997</td>\n",
       "      <td>15.1</td>\n",
       "      <td>2018</td>\n",
       "      <td>Europe</td>\n",
       "      <td>Gasoline</td>\n",
       "      <td>Front-wheel drive</td>\n",
       "      <td>0.0</td>\n",
       "      <td>14.246341</td>\n",
       "    </tr>\n",
       "    <tr>\n",
       "      <th>3</th>\n",
       "      <td>220</td>\n",
       "      <td>4.0</td>\n",
       "      <td>NaN</td>\n",
       "      <td>2542.392402</td>\n",
       "      <td>20.2</td>\n",
       "      <td>2009</td>\n",
       "      <td>USA</td>\n",
       "      <td>Diesel</td>\n",
       "      <td>All-wheel drive</td>\n",
       "      <td>2.0</td>\n",
       "      <td>16.912736</td>\n",
       "    </tr>\n",
       "    <tr>\n",
       "      <th>4</th>\n",
       "      <td>210</td>\n",
       "      <td>1.0</td>\n",
       "      <td>140.0</td>\n",
       "      <td>3460.870990</td>\n",
       "      <td>14.4</td>\n",
       "      <td>2009</td>\n",
       "      <td>Europe</td>\n",
       "      <td>Gasoline</td>\n",
       "      <td>All-wheel drive</td>\n",
       "      <td>2.0</td>\n",
       "      <td>12.488369</td>\n",
       "    </tr>\n",
       "  </tbody>\n",
       "</table>\n",
       "</div>"
      ],
      "text/plain": [
       "   engine_displacement  num_cylinders  horsepower  vehicle_weight  \\\n",
       "0                  170            3.0       159.0     3413.433759   \n",
       "1                  130            5.0        97.0     3149.664934   \n",
       "2                  170            NaN        78.0     3079.038997   \n",
       "3                  220            4.0         NaN     2542.392402   \n",
       "4                  210            1.0       140.0     3460.870990   \n",
       "\n",
       "   acceleration  model_year  origin fuel_type         drivetrain  num_doors  \\\n",
       "0          17.7        2003  Europe  Gasoline    All-wheel drive        0.0   \n",
       "1          17.8        2007     USA  Gasoline  Front-wheel drive        0.0   \n",
       "2          15.1        2018  Europe  Gasoline  Front-wheel drive        0.0   \n",
       "3          20.2        2009     USA    Diesel    All-wheel drive        2.0   \n",
       "4          14.4        2009  Europe  Gasoline    All-wheel drive        2.0   \n",
       "\n",
       "   fuel_efficiency_mpg  \n",
       "0            13.231729  \n",
       "1            13.688217  \n",
       "2            14.246341  \n",
       "3            16.912736  \n",
       "4            12.488369  "
      ]
     },
     "execution_count": 301,
     "metadata": {},
     "output_type": "execute_result"
    }
   ],
   "source": [
    "df_original.head()"
   ]
  },
  {
   "cell_type": "code",
   "execution_count": 302,
   "id": "724c8c93-ff7b-4ebc-a6b2-da23b1d9d134",
   "metadata": {},
   "outputs": [
    {
     "data": {
      "text/plain": [
       "engine_displacement      0\n",
       "num_cylinders          482\n",
       "horsepower             708\n",
       "vehicle_weight           0\n",
       "acceleration           930\n",
       "model_year               0\n",
       "origin                   0\n",
       "fuel_type                0\n",
       "drivetrain               0\n",
       "num_doors              502\n",
       "fuel_efficiency_mpg      0\n",
       "dtype: int64"
      ]
     },
     "execution_count": 302,
     "metadata": {},
     "output_type": "execute_result"
    }
   ],
   "source": [
    "df_original.isnull().sum()"
   ]
  },
  {
   "cell_type": "code",
   "execution_count": 303,
   "id": "d5650852-6b81-4990-a599-7fa825e90be0",
   "metadata": {},
   "outputs": [
    {
     "data": {
      "text/plain": [
       "array(['engine_displacement', 'num_cylinders', 'horsepower',\n",
       "       'vehicle_weight', 'acceleration', 'model_year', 'origin',\n",
       "       'fuel_type', 'drivetrain', 'num_doors', 'fuel_efficiency_mpg'],\n",
       "      dtype=object)"
      ]
     },
     "execution_count": 303,
     "metadata": {},
     "output_type": "execute_result"
    }
   ],
   "source": [
    "original_cols = df_original.columns.values\n",
    "original_cols"
   ]
  },
  {
   "cell_type": "code",
   "execution_count": 311,
   "id": "4cf66725-f736-4742-8a2b-a2c16ad3e46f",
   "metadata": {},
   "outputs": [
    {
     "name": "stderr",
     "output_type": "stream",
     "text": [
      "/tmp/ipykernel_10204/2546221191.py:7: SettingWithCopyWarning: \n",
      "A value is trying to be set on a copy of a slice from a DataFrame.\n",
      "Try using .loc[row_indexer,col_indexer] = value instead\n",
      "\n",
      "See the caveats in the documentation: https://pandas.pydata.org/pandas-docs/stable/user_guide/indexing.html#returning-a-view-versus-a-copy\n",
      "  df_base['age'] = 2023 - df_original['model_year']\n"
     ]
    },
    {
     "data": {
      "text/html": [
       "<div>\n",
       "<style scoped>\n",
       "    .dataframe tbody tr th:only-of-type {\n",
       "        vertical-align: middle;\n",
       "    }\n",
       "\n",
       "    .dataframe tbody tr th {\n",
       "        vertical-align: top;\n",
       "    }\n",
       "\n",
       "    .dataframe thead th {\n",
       "        text-align: right;\n",
       "    }\n",
       "</style>\n",
       "<table border=\"1\" class=\"dataframe\">\n",
       "  <thead>\n",
       "    <tr style=\"text-align: right;\">\n",
       "      <th></th>\n",
       "      <th>engine_displacement</th>\n",
       "      <th>horsepower</th>\n",
       "      <th>vehicle_weight</th>\n",
       "      <th>fuel_efficiency_mpg</th>\n",
       "      <th>age</th>\n",
       "    </tr>\n",
       "  </thead>\n",
       "  <tbody>\n",
       "    <tr>\n",
       "      <th>0</th>\n",
       "      <td>170</td>\n",
       "      <td>159.0</td>\n",
       "      <td>3413.433759</td>\n",
       "      <td>13.231729</td>\n",
       "      <td>20</td>\n",
       "    </tr>\n",
       "    <tr>\n",
       "      <th>1</th>\n",
       "      <td>130</td>\n",
       "      <td>97.0</td>\n",
       "      <td>3149.664934</td>\n",
       "      <td>13.688217</td>\n",
       "      <td>16</td>\n",
       "    </tr>\n",
       "    <tr>\n",
       "      <th>2</th>\n",
       "      <td>170</td>\n",
       "      <td>78.0</td>\n",
       "      <td>3079.038997</td>\n",
       "      <td>14.246341</td>\n",
       "      <td>5</td>\n",
       "    </tr>\n",
       "    <tr>\n",
       "      <th>3</th>\n",
       "      <td>220</td>\n",
       "      <td>NaN</td>\n",
       "      <td>2542.392402</td>\n",
       "      <td>16.912736</td>\n",
       "      <td>14</td>\n",
       "    </tr>\n",
       "    <tr>\n",
       "      <th>4</th>\n",
       "      <td>210</td>\n",
       "      <td>140.0</td>\n",
       "      <td>3460.870990</td>\n",
       "      <td>12.488369</td>\n",
       "      <td>14</td>\n",
       "    </tr>\n",
       "  </tbody>\n",
       "</table>\n",
       "</div>"
      ],
      "text/plain": [
       "   engine_displacement  horsepower  vehicle_weight  fuel_efficiency_mpg  age\n",
       "0                  170       159.0     3413.433759            13.231729   20\n",
       "1                  130        97.0     3149.664934            13.688217   16\n",
       "2                  170        78.0     3079.038997            14.246341    5\n",
       "3                  220         NaN     2542.392402            16.912736   14\n",
       "4                  210       140.0     3460.870990            12.488369   14"
      ]
     },
     "execution_count": 311,
     "metadata": {},
     "output_type": "execute_result"
    }
   ],
   "source": [
    "base_columns = ['engine_displacement',\n",
    "'horsepower',\n",
    "'vehicle_weight',\n",
    "'fuel_efficiency_mpg']          \n",
    "\n",
    "df_base = df_original[base_columns]\n",
    "df_base['age'] = 2023 - df_original['model_year']\n",
    "base_columns = base_columns + ['age']\n",
    "df_base.head()"
   ]
  },
  {
   "cell_type": "code",
   "execution_count": 297,
   "id": "a083c57c-9ffa-45d4-8786-2ffe84c4a869",
   "metadata": {},
   "outputs": [
    {
     "name": "stdout",
     "output_type": "stream",
     "text": [
      "engine_displacement\n",
      "[170 130 220 210 190]\n",
      "36\n",
      "\n",
      "horsepower\n",
      "[159.  97.  78.  nan 140.]\n",
      "192\n",
      "\n",
      "vehicle_weight\n",
      "[3413.43375861 3149.66493422 3079.03899737 2542.39240183 3460.87098999]\n",
      "9704\n",
      "\n",
      "model_year\n",
      "[2003 2007 2018 2009 2008]\n",
      "24\n",
      "\n",
      "fuel_efficiency_mpg\n",
      "[13.23172891 13.68821744 14.246341   16.9127356  12.48836912]\n",
      "9704\n",
      "\n",
      "2000\n",
      "2023\n"
     ]
    }
   ],
   "source": [
    "for col in base_columns:\n",
    "    print(col)\n",
    "    print(df_base[col].unique()[:5])\n",
    "    print(df_base[col].nunique())\n",
    "    print()\n",
    "\n",
    "print(df_base['model_year'].min())\n",
    "print(df_base['model_year'].max())"
   ]
  },
  {
   "cell_type": "code",
   "execution_count": 312,
   "id": "70186ecc-1023-4891-989a-b8fe0e51d4b9",
   "metadata": {
    "scrolled": true
   },
   "outputs": [
    {
     "data": {
      "image/png": "[encoded data removed]",
      "text/plain": [
       "<Figure size 640x480 with 1 Axes>"
      ]
     },
     "metadata": {},
     "output_type": "display_data"
    },
    {
     "data": {
      "image/png": "[encoded data removed]",
      "text/plain": [
       "<Figure size 640x480 with 1 Axes>"
      ]
     },
     "metadata": {},
     "output_type": "display_data"
    },
    {
     "data": {
      "image/png": "[encoded data removed]",
      "text/plain": [
       "<Figure size 640x480 with 1 Axes>"
      ]
     },
     "metadata": {},
     "output_type": "display_data"
    },
    {
     "data": {
      "image/png": "[encoded data removed]",
      "text/plain": [
       "<Figure size 640x480 with 1 Axes>"
      ]
     },
     "metadata": {},
     "output_type": "display_data"
    },
    {
     "data": {
      "image/png": "[encoded data removed]",
      "text/plain": [
       "<Figure size 640x480 with 1 Axes>"
      ]
     },
     "metadata": {},
     "output_type": "display_data"
    }
   ],
   "source": [
    "import matplotlib.pyplot as plt\n",
    "for col in base_columns:\n",
    "    df_col = df_base[col]\n",
    "    # sns.histplot(df_fuel_e_mpg, bins = 50)\n",
    "    sns.histplot(data=df_col, bins = 50)\n",
    "    plt.title(col)\n",
    "    plt.show()"
   ]
  },
  {
   "cell_type": "code",
   "execution_count": 313,
   "id": "b53e7095-06d1-4c58-9f6e-272acbbe0b13",
   "metadata": {},
   "outputs": [
    {
     "data": {
      "text/plain": [
       "np.float64(149.0)"
      ]
     },
     "execution_count": 313,
     "metadata": {},
     "output_type": "execute_result"
    }
   ],
   "source": [
    "# There's one column with missing values. What is it?\n",
    "df_base.isnull().sum()\n",
    "\n",
    "# horsepower\n",
    "df_base['horsepower'].median()"
   ]
  },
  {
   "cell_type": "code",
   "execution_count": 314,
   "id": "0e8edebd-d7fd-4081-8bd5-090bda5a0db5",
   "metadata": {},
   "outputs": [
    {
     "data": {
      "text/plain": [
       "engine_displacement      0\n",
       "horsepower             708\n",
       "vehicle_weight           0\n",
       "fuel_efficiency_mpg      0\n",
       "age                      0\n",
       "dtype: int64"
      ]
     },
     "execution_count": 314,
     "metadata": {},
     "output_type": "execute_result"
    }
   ],
   "source": [
    "df_base.isnull().sum()\n",
    "# df_original.shape"
   ]
  },
  {
   "cell_type": "markdown",
   "id": "d05c1303-4941-4ca8-84fd-b5279202dcf8",
   "metadata": {},
   "source": [
    "# Prepare and split the dataset"
   ]
  },
  {
   "cell_type": "code",
   "execution_count": 315,
   "id": "ee471a62-0d62-4d9d-b538-ebdada22a0ac",
   "metadata": {},
   "outputs": [
    {
     "data": {
      "text/plain": [
       "9704"
      ]
     },
     "execution_count": 315,
     "metadata": {},
     "output_type": "execute_result"
    }
   ],
   "source": [
    "n = len(df_base)\n",
    "n"
   ]
  },
  {
   "cell_type": "code",
   "execution_count": 316,
   "id": "2c76a60d-cf69-43e4-9bac-db3126f8e9d4",
   "metadata": {},
   "outputs": [
    {
     "name": "stdout",
     "output_type": "stream",
     "text": [
      "1940 1940 5824\n"
     ]
    }
   ],
   "source": [
    "n_val = int(n * 0.2)\n",
    "n_test = int(n * 0.2)\n",
    "n_train = n - n_val - n_test\n",
    "print(n_val, n_test, n_train)"
   ]
  },
  {
   "cell_type": "code",
   "execution_count": 336,
   "id": "9bb3526b-b73e-4fe2-8f54-d34fe44b6540",
   "metadata": {},
   "outputs": [],
   "source": [
    "def shuffle_idx_and_prep_datasets(seed_val):\n",
    "    shuffled_idx = np.arange(n)\n",
    "    print('seed', seed_val)\n",
    "    np.random.seed(seed_val)\n",
    "    np.random.shuffle(shuffled_idx)\n",
    "\n",
    "    df_train = df_base.iloc[shuffled_idx[ : n_train]]\n",
    "    df_val = df_base.iloc[shuffled_idx[n_train : n_train + n_val]]\n",
    "    df_test = df_base.iloc[shuffled_idx[n_train + n_val:]]\n",
    "        \n",
    "    # reset index\n",
    "    df_train = df_train.reset_index(drop=True)\n",
    "    df_val = df_val.reset_index(drop=True)\n",
    "    df_test = df_test.reset_index(drop=True)\n",
    "\n",
    "    # extract output vector\n",
    "    y_train = (df_train.fuel_efficiency_mpg.values)\n",
    "    y_val = (df_val.fuel_efficiency_mpg.values)\n",
    "    y_test = (df_test.fuel_efficiency_mpg.values)\n",
    "\n",
    "    # IMP: delete output from feature matrix\n",
    "    del df_train['fuel_efficiency_mpg']\n",
    "    del df_val['fuel_efficiency_mpg']\n",
    "    del df_test['fuel_efficiency_mpg']\n",
    "\n",
    "    print(len(y_train))\n",
    "    \n",
    "    return df_train, df_val, df_test, y_train, y_val, y_test"
   ]
  },
  {
   "cell_type": "code",
   "execution_count": 337,
   "id": "b4a8a681-ca45-40a1-a12d-c38cee645b37",
   "metadata": {},
   "outputs": [
    {
     "name": "stdout",
     "output_type": "stream",
     "text": [
      "seed 42\n",
      "5824\n"
     ]
    },
    {
     "data": {
      "text/html": [
       "<div>\n",
       "<style scoped>\n",
       "    .dataframe tbody tr th:only-of-type {\n",
       "        vertical-align: middle;\n",
       "    }\n",
       "\n",
       "    .dataframe tbody tr th {\n",
       "        vertical-align: top;\n",
       "    }\n",
       "\n",
       "    .dataframe thead th {\n",
       "        text-align: right;\n",
       "    }\n",
       "</style>\n",
       "<table border=\"1\" class=\"dataframe\">\n",
       "  <thead>\n",
       "    <tr style=\"text-align: right;\">\n",
       "      <th></th>\n",
       "      <th>engine_displacement</th>\n",
       "      <th>horsepower</th>\n",
       "      <th>vehicle_weight</th>\n",
       "      <th>age</th>\n",
       "    </tr>\n",
       "  </thead>\n",
       "  <tbody>\n",
       "    <tr>\n",
       "      <th>0</th>\n",
       "      <td>220</td>\n",
       "      <td>144.0</td>\n",
       "      <td>2535.887591</td>\n",
       "      <td>14</td>\n",
       "    </tr>\n",
       "    <tr>\n",
       "      <th>1</th>\n",
       "      <td>160</td>\n",
       "      <td>141.0</td>\n",
       "      <td>2741.170484</td>\n",
       "      <td>4</td>\n",
       "    </tr>\n",
       "    <tr>\n",
       "      <th>2</th>\n",
       "      <td>230</td>\n",
       "      <td>155.0</td>\n",
       "      <td>2471.880237</td>\n",
       "      <td>6</td>\n",
       "    </tr>\n",
       "    <tr>\n",
       "      <th>3</th>\n",
       "      <td>150</td>\n",
       "      <td>206.0</td>\n",
       "      <td>3748.164469</td>\n",
       "      <td>8</td>\n",
       "    </tr>\n",
       "    <tr>\n",
       "      <th>4</th>\n",
       "      <td>300</td>\n",
       "      <td>111.0</td>\n",
       "      <td>2135.716359</td>\n",
       "      <td>17</td>\n",
       "    </tr>\n",
       "    <tr>\n",
       "      <th>...</th>\n",
       "      <td>...</td>\n",
       "      <td>...</td>\n",
       "      <td>...</td>\n",
       "      <td>...</td>\n",
       "    </tr>\n",
       "    <tr>\n",
       "      <th>5819</th>\n",
       "      <td>260</td>\n",
       "      <td>139.0</td>\n",
       "      <td>2606.972984</td>\n",
       "      <td>14</td>\n",
       "    </tr>\n",
       "    <tr>\n",
       "      <th>5820</th>\n",
       "      <td>280</td>\n",
       "      <td>132.0</td>\n",
       "      <td>4004.214323</td>\n",
       "      <td>9</td>\n",
       "    </tr>\n",
       "    <tr>\n",
       "      <th>5821</th>\n",
       "      <td>210</td>\n",
       "      <td>152.0</td>\n",
       "      <td>2500.175687</td>\n",
       "      <td>3</td>\n",
       "    </tr>\n",
       "    <tr>\n",
       "      <th>5822</th>\n",
       "      <td>250</td>\n",
       "      <td>154.0</td>\n",
       "      <td>2254.313245</td>\n",
       "      <td>21</td>\n",
       "    </tr>\n",
       "    <tr>\n",
       "      <th>5823</th>\n",
       "      <td>210</td>\n",
       "      <td>152.0</td>\n",
       "      <td>2435.203606</td>\n",
       "      <td>19</td>\n",
       "    </tr>\n",
       "  </tbody>\n",
       "</table>\n",
       "<p>5824 rows × 4 columns</p>\n",
       "</div>"
      ],
      "text/plain": [
       "      engine_displacement  horsepower  vehicle_weight  age\n",
       "0                     220       144.0     2535.887591   14\n",
       "1                     160       141.0     2741.170484    4\n",
       "2                     230       155.0     2471.880237    6\n",
       "3                     150       206.0     3748.164469    8\n",
       "4                     300       111.0     2135.716359   17\n",
       "...                   ...         ...             ...  ...\n",
       "5819                  260       139.0     2606.972984   14\n",
       "5820                  280       132.0     4004.214323    9\n",
       "5821                  210       152.0     2500.175687    3\n",
       "5822                  250       154.0     2254.313245   21\n",
       "5823                  210       152.0     2435.203606   19\n",
       "\n",
       "[5824 rows x 4 columns]"
      ]
     },
     "execution_count": 337,
     "metadata": {},
     "output_type": "execute_result"
    }
   ],
   "source": [
    "df_train, df_val, df_test, y_train, y_val, y_test = shuffle_idx_and_prep_datasets(42)\n",
    "df_train"
   ]
  },
  {
   "cell_type": "code",
   "execution_count": 338,
   "id": "89337958-7c71-4b7a-9ae7-29ff01e4528f",
   "metadata": {},
   "outputs": [
    {
     "data": {
      "text/plain": [
       "array([16.64294342, 16.29837715, 18.59182197, ..., 17.59323665,\n",
       "       18.92574819, 17.96528447], shape=(5824,))"
      ]
     },
     "execution_count": 338,
     "metadata": {},
     "output_type": "execute_result"
    }
   ],
   "source": [
    "y_train"
   ]
  },
  {
   "cell_type": "code",
   "execution_count": 339,
   "id": "5805628a-ea80-4ca2-bd65-3c0d01c4580f",
   "metadata": {},
   "outputs": [],
   "source": [
    "def train_linear_regression_without_reg(X, y):\n",
    "    ones = np.ones(X.shape[0])\n",
    "    X = np.column_stack([ones, X])\n",
    "\n",
    "    XTX = X.T.dot(X)\n",
    "    XTX_inv = np.linalg.inv(XTX)\n",
    "    w_full = XTX_inv.dot(X.T).dot(y)\n",
    "    \n",
    "    return w_full[0], w_full[1:]\n",
    "\n",
    "def rmse(y, y_pred):\n",
    "    se = (y - y_pred) ** 2\n",
    "    mse = se.mean()\n",
    "    return np.sqrt(mse)"
   ]
  },
  {
   "cell_type": "markdown",
   "id": "1a8e053c-598a-4ce0-a045-1c686680f848",
   "metadata": {},
   "source": [
    "We need to deal with missing values for the column from Q1.\n",
    "We have two options: fill it with 0 or with the mean of this variable.\n",
    "Try both options. For each, train a linear regression model without regularization using the code from the lessons.\n",
    "For computing the mean, use the training only!\n",
    "Use the validation dataset to evaluate the models and compare the RMSE of each option.\n",
    "Round the RMSE scores to 2 decimal digits using round(score, 2)\n",
    "Which option gives better RMSE?"
   ]
  },
  {
   "cell_type": "code",
   "execution_count": 340,
   "id": "0cc4b816-2acf-4a17-91d6-7dae09d47497",
   "metadata": {
    "scrolled": true
   },
   "outputs": [
    {
     "name": "stdout",
     "output_type": "stream",
     "text": [
      "149.54476367006487\n"
     ]
    }
   ],
   "source": [
    "# mean\n",
    "val_to_fill = df_train['horsepower'].mean()\n",
    "print(val_to_fill)\n",
    "\n",
    "# df_train['horsepower'].fillna(val_to_fill, inplace=True)\n",
    "# df_train.isnull().sum()\n",
    "\n",
    "# df_train\n",
    "# df_train.isnull().sum() 429\n",
    "# df_val.isnull().sum() 136\n",
    "# df_test.isnull().sum() 143"
   ]
  },
  {
   "cell_type": "code",
   "execution_count": 341,
   "id": "36205dc3-ae3e-4608-aa22-428a647408ac",
   "metadata": {},
   "outputs": [
    {
     "data": {
      "text/plain": [
       "np.float64(0.52)"
      ]
     },
     "execution_count": 341,
     "metadata": {},
     "output_type": "execute_result"
    }
   ],
   "source": [
    "def prepare_X(df, val):\n",
    "    # print(df.isnull().sum())\n",
    "    df_fill = df.fillna(val)\n",
    "    # print(df_fill.isnull().sum())\n",
    "    X = df_fill.values\n",
    "    return X\n",
    "\n",
    "# 0\n",
    "X_train = prepare_X(df_train, 0)\n",
    "w0, w = train_linear_regression_without_reg(X_train, y_train)\n",
    "\n",
    "X_val = prepare_X(df_val, 0)\n",
    "y_pred = w0 + X_val.dot(w)\n",
    "rmse(y_val, y_pred).round(2)\n"
   ]
  },
  {
   "cell_type": "code",
   "execution_count": null,
   "id": "8524c626-2384-41ae-bf26-acf5a1459f93",
   "metadata": {},
   "outputs": [],
   "source": []
  },
  {
   "cell_type": "code",
   "execution_count": 342,
   "id": "bae7e9a3-7676-4788-8842-f41f846d2ab1",
   "metadata": {},
   "outputs": [
    {
     "name": "stdout",
     "output_type": "stream",
     "text": [
      "149.54476367006487\n"
     ]
    },
    {
     "data": {
      "text/plain": [
       "np.float64(0.46)"
      ]
     },
     "execution_count": 342,
     "metadata": {},
     "output_type": "execute_result"
    }
   ],
   "source": [
    "# mean\n",
    "print(val_to_fill)\n",
    "X_train = prepare_X(df_train, val_to_fill)\n",
    "w0, w = train_linear_regression_without_reg(X_train, y_train)\n",
    "\n",
    "X_val = prepare_X(df_val, val_to_fill)\n",
    "y_pred = w0 + X_val.dot(w)\n",
    "rmse(y_val, y_pred).round(2)\n",
    "\n",
    "\n",
    "# from statsmodels.stats.outliers_influence import variance_inflation_factor\n",
    "\n",
    "# vif = [variance_inflation_factor(X_train, i) for i in range(X_train.shape[1])]\n",
    "# print(vif)"
   ]
  },
  {
   "cell_type": "code",
   "execution_count": 164,
   "id": "fb968501-f9d0-43d8-bfca-dc21d5dbc5e5",
   "metadata": {},
   "outputs": [
    {
     "data": {
      "image/png": "[encoded data removed]",
      "text/plain": [
       "<Figure size 640x480 with 1 Axes>"
      ]
     },
     "metadata": {},
     "output_type": "display_data"
    }
   ],
   "source": [
    "sns.histplot(y_val, color = 'red', alpha = 0.5, bins = 50)\n",
    "sns.histplot(y_pred_mean, color = 'blue', alpha = 0.5, bins = 50)\n",
    "%matplotlib inline"
   ]
  },
  {
   "cell_type": "markdown",
   "id": "a9c2ada9-3230-4175-8b71-dc17f86ac02a",
   "metadata": {},
   "source": [
    "REGULARISED REGRESSION\n"
   ]
  },
  {
   "cell_type": "code",
   "execution_count": 343,
   "id": "96e23320-8c41-467f-b709-b0856a42fdcc",
   "metadata": {},
   "outputs": [],
   "source": [
    "def train_linear_regression_reg(X, y, r=0.001):\n",
    "    print('r', r)\n",
    "    ones = np.ones(X.shape[0])\n",
    "    X = np.column_stack([ones, X])\n",
    "\n",
    "    XTX = X.T.dot(X)\n",
    "    XTX = XTX + r * np.eye(XTX.shape[0])\n",
    "\n",
    "    XTX_inv = np.linalg.inv(XTX)\n",
    "    w_full = XTX_inv.dot(X.T).dot(y)\n",
    "    \n",
    "    return w_full[0], w_full[1:]"
   ]
  },
  {
   "cell_type": "code",
   "execution_count": 344,
   "id": "fc9f3497-c152-4a9f-9f47-5bb4e9ef2984",
   "metadata": {},
   "outputs": [
    {
     "name": "stdout",
     "output_type": "stream",
     "text": [
      "r 0\n",
      "0.52\n",
      "----\n",
      "r 0.01\n",
      "0.52\n",
      "----\n",
      "r 0.1\n",
      "0.52\n",
      "----\n",
      "r 1\n",
      "0.52\n",
      "----\n",
      "r 5\n",
      "0.55\n",
      "----\n",
      "r 10\n",
      "0.64\n",
      "----\n",
      "r 100\n",
      "2.06\n",
      "----\n"
     ]
    }
   ],
   "source": [
    "for r in [0, 0.01, 0.1, 1, 5, 10, 100]:\n",
    "    # 0\n",
    "    X_train = prepare_X(df_train, 0)\n",
    "    w0, w = train_linear_regression_reg(X_train, y_train, r)\n",
    "\n",
    "    X_val = prepare_X(df_val, 0)\n",
    "    y_pred = w0 + X_val.dot(w)\n",
    "    print(rmse(y_val, y_pred).round(2))\n",
    "    print(\"----\")"
   ]
  },
  {
   "cell_type": "code",
   "execution_count": 345,
   "id": "bf6fb412-cba5-4bdb-9c95-81edd7b9be47",
   "metadata": {},
   "outputs": [
    {
     "name": "stdout",
     "output_type": "stream",
     "text": [
      "s 0\n",
      "seed 0\n",
      "5824\n",
      "0.5206531296298024\n",
      "---\n",
      "s 1\n",
      "seed 1\n",
      "5824\n",
      "0.5213388912856988\n",
      "---\n",
      "s 2\n",
      "seed 2\n",
      "5824\n",
      "0.5228069974802021\n",
      "---\n",
      "s 3\n",
      "seed 3\n",
      "5824\n",
      "0.5159516741173531\n",
      "---\n",
      "s 4\n",
      "seed 4\n",
      "5824\n",
      "0.5109129460065376\n",
      "---\n",
      "s 5\n",
      "seed 5\n",
      "5824\n",
      "0.5283406460165985\n",
      "---\n",
      "s 6\n",
      "seed 6\n",
      "5824\n",
      "0.5313910658170704\n",
      "---\n",
      "s 7\n",
      "seed 7\n",
      "5824\n",
      "0.5090670387374364\n",
      "---\n",
      "s 8\n",
      "seed 8\n",
      "5824\n",
      "0.5147399129350915\n",
      "---\n",
      "s 9\n",
      "seed 9\n",
      "5824\n",
      "0.5131865908331025\n",
      "---\n"
     ]
    }
   ],
   "source": [
    "list_rmse = []\n",
    "for s in [0, 1, 2, 3, 4, 5, 6, 7, 8, 9]:\n",
    "    print('s', s)\n",
    "    df_train, df_val, df_test, y_train, y_val, y_test = shuffle_idx_and_prep_datasets(s)\n",
    "\n",
    "    X_train = prepare_X(df_train, 0)\n",
    "    w0, w = train_linear_regression_without_reg(X_train, y_train)\n",
    "\n",
    "    X_val = prepare_X(df_val, 0)\n",
    "    y_pred = w0 + X_val.dot(w)\n",
    "    print(rmse(y_val, y_pred))\n",
    "    print(\"---\")\n",
    "    list_rmse.append(rmse(y_val, y_pred))"
   ]
  },
  {
   "cell_type": "code",
   "execution_count": 346,
   "id": "39e69483-5dd6-4049-8965-2a5d086b2315",
   "metadata": {},
   "outputs": [
    {
     "data": {
      "text/plain": [
       "np.float64(0.007)"
      ]
     },
     "execution_count": 346,
     "metadata": {},
     "output_type": "execute_result"
    }
   ],
   "source": [
    "np.std(list_rmse).round(3)"
   ]
  },
  {
   "cell_type": "code",
   "execution_count": 234,
   "id": "f016fe5d-36d9-41ce-a51b-2941cbc49b9e",
   "metadata": {},
   "outputs": [],
   "source": [
    "# eval on test"
   ]
  },
  {
   "cell_type": "code",
   "execution_count": 347,
   "id": "b37d8e52-8135-470a-99ff-54930fb6eba6",
   "metadata": {},
   "outputs": [
    {
     "name": "stdout",
     "output_type": "stream",
     "text": [
      "seed 9\n",
      "5824\n",
      "r 0.001\n"
     ]
    }
   ],
   "source": [
    "final_seed = 9\n",
    "df_train, df_val, df_test, y_train, y_val, y_test = shuffle_idx_and_prep_datasets(final_seed)\n",
    "\n",
    "df_full_train = pd.concat([df_train, df_val])\n",
    "df_full_train = df_full_train.reset_index(drop=True)\n",
    "X_full_train = prepare_X(df_full_train, 0)\n",
    "\n",
    "y_full_train = np.concatenate([y_train, y_val])\n",
    "w0, w = train_linear_regression_reg(X_full_train, y_full_train, r=0.001)"
   ]
  },
  {
   "cell_type": "code",
   "execution_count": 348,
   "id": "29660918-d3a5-4ed5-aee3-e7de4e606744",
   "metadata": {},
   "outputs": [
    {
     "data": {
      "text/plain": [
       "np.float64(0.5156120466461953)"
      ]
     },
     "execution_count": 348,
     "metadata": {},
     "output_type": "execute_result"
    }
   ],
   "source": [
    "X_test = prepare_X(df_test, 0)\n",
    "y_pred = w0 + X_test.dot(w)\n",
    "score = rmse(y_test, y_pred)\n",
    "score"
   ]
  },
  {
   "cell_type": "code",
   "execution_count": null,
   "id": "713c7359-9a7e-4d53-8d25-b463941a9e89",
   "metadata": {},
   "outputs": [],
   "source": []
  }
 ],
 "metadata": {
  "kernelspec": {
   "display_name": "Python 3 (ipykernel)",
   "language": "python",
   "name": "python3"
  },
  "language_info": {
   "codemirror_mode": {
    "name": "ipython",
    "version": 3
   },
   "file_extension": ".py",
   "mimetype": "text/x-python",
   "name": "python",
   "nbconvert_exporter": "python",
   "pygments_lexer": "ipython3",
   "version": "3.12.1"
  }
 },
 "nbformat": 4,
 "nbformat_minor": 5
}
