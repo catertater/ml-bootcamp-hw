{
 "cells": [
  {
   "cell_type": "code",
   "execution_count": 1,
   "id": "d1f970e2-b9b7-43af-942c-7f5b36e26752",
   "metadata": {},
   "outputs": [],
   "source": [
    "import numpy as np\n",
    "import pandas as pd"
   ]
  },
  {
   "cell_type": "code",
   "execution_count": 2,
   "id": "379e678f-ca08-4d76-9474-8340e4b07ec2",
   "metadata": {},
   "outputs": [
    {
     "data": {
      "text/plain": [
       "'2.3.1'"
      ]
     },
     "execution_count": 2,
     "metadata": {},
     "output_type": "execute_result"
    }
   ],
   "source": [
    "pd.__version__"
   ]
  },
  {
   "cell_type": "code",
   "execution_count": 3,
   "id": "7e87b270-31d5-47c2-b78c-03b5c519edf6",
   "metadata": {},
   "outputs": [],
   "source": [
    "df = pd.read_csv(\"https://raw.githubusercontent.com/alexeygrigorev/datasets/master/car_fuel_efficiency.csv\")"
   ]
  },
  {
   "cell_type": "code",
   "execution_count": 4,
   "id": "b5926122-45c0-4d4e-a5c0-9a864ef462f0",
   "metadata": {},
   "outputs": [
    {
     "data": {
      "text/html": [
       "<div>\n",
       "<style scoped>\n",
       "    .dataframe tbody tr th:only-of-type {\n",
       "        vertical-align: middle;\n",
       "    }\n",
       "\n",
       "    .dataframe tbody tr th {\n",
       "        vertical-align: top;\n",
       "    }\n",
       "\n",
       "    .dataframe thead th {\n",
       "        text-align: right;\n",
       "    }\n",
       "</style>\n",
       "<table border=\"1\" class=\"dataframe\">\n",
       "  <thead>\n",
       "    <tr style=\"text-align: right;\">\n",
       "      <th></th>\n",
       "      <th>engine_displacement</th>\n",
       "      <th>num_cylinders</th>\n",
       "      <th>horsepower</th>\n",
       "      <th>vehicle_weight</th>\n",
       "      <th>acceleration</th>\n",
       "      <th>model_year</th>\n",
       "      <th>origin</th>\n",
       "      <th>fuel_type</th>\n",
       "      <th>drivetrain</th>\n",
       "      <th>num_doors</th>\n",
       "      <th>fuel_efficiency_mpg</th>\n",
       "    </tr>\n",
       "  </thead>\n",
       "  <tbody>\n",
       "    <tr>\n",
       "      <th>0</th>\n",
       "      <td>170</td>\n",
       "      <td>3.0</td>\n",
       "      <td>159.0</td>\n",
       "      <td>3413.433759</td>\n",
       "      <td>17.7</td>\n",
       "      <td>2003</td>\n",
       "      <td>Europe</td>\n",
       "      <td>Gasoline</td>\n",
       "      <td>All-wheel drive</td>\n",
       "      <td>0.0</td>\n",
       "      <td>13.231729</td>\n",
       "    </tr>\n",
       "    <tr>\n",
       "      <th>1</th>\n",
       "      <td>130</td>\n",
       "      <td>5.0</td>\n",
       "      <td>97.0</td>\n",
       "      <td>3149.664934</td>\n",
       "      <td>17.8</td>\n",
       "      <td>2007</td>\n",
       "      <td>USA</td>\n",
       "      <td>Gasoline</td>\n",
       "      <td>Front-wheel drive</td>\n",
       "      <td>0.0</td>\n",
       "      <td>13.688217</td>\n",
       "    </tr>\n",
       "    <tr>\n",
       "      <th>2</th>\n",
       "      <td>170</td>\n",
       "      <td>NaN</td>\n",
       "      <td>78.0</td>\n",
       "      <td>3079.038997</td>\n",
       "      <td>15.1</td>\n",
       "      <td>2018</td>\n",
       "      <td>Europe</td>\n",
       "      <td>Gasoline</td>\n",
       "      <td>Front-wheel drive</td>\n",
       "      <td>0.0</td>\n",
       "      <td>14.246341</td>\n",
       "    </tr>\n",
       "    <tr>\n",
       "      <th>3</th>\n",
       "      <td>220</td>\n",
       "      <td>4.0</td>\n",
       "      <td>NaN</td>\n",
       "      <td>2542.392402</td>\n",
       "      <td>20.2</td>\n",
       "      <td>2009</td>\n",
       "      <td>USA</td>\n",
       "      <td>Diesel</td>\n",
       "      <td>All-wheel drive</td>\n",
       "      <td>2.0</td>\n",
       "      <td>16.912736</td>\n",
       "    </tr>\n",
       "    <tr>\n",
       "      <th>4</th>\n",
       "      <td>210</td>\n",
       "      <td>1.0</td>\n",
       "      <td>140.0</td>\n",
       "      <td>3460.870990</td>\n",
       "      <td>14.4</td>\n",
       "      <td>2009</td>\n",
       "      <td>Europe</td>\n",
       "      <td>Gasoline</td>\n",
       "      <td>All-wheel drive</td>\n",
       "      <td>2.0</td>\n",
       "      <td>12.488369</td>\n",
       "    </tr>\n",
       "  </tbody>\n",
       "</table>\n",
       "</div>"
      ],
      "text/plain": [
       "   engine_displacement  num_cylinders  horsepower  vehicle_weight  \\\n",
       "0                  170            3.0       159.0     3413.433759   \n",
       "1                  130            5.0        97.0     3149.664934   \n",
       "2                  170            NaN        78.0     3079.038997   \n",
       "3                  220            4.0         NaN     2542.392402   \n",
       "4                  210            1.0       140.0     3460.870990   \n",
       "\n",
       "   acceleration  model_year  origin fuel_type         drivetrain  num_doors  \\\n",
       "0          17.7        2003  Europe  Gasoline    All-wheel drive        0.0   \n",
       "1          17.8        2007     USA  Gasoline  Front-wheel drive        0.0   \n",
       "2          15.1        2018  Europe  Gasoline  Front-wheel drive        0.0   \n",
       "3          20.2        2009     USA    Diesel    All-wheel drive        2.0   \n",
       "4          14.4        2009  Europe  Gasoline    All-wheel drive        2.0   \n",
       "\n",
       "   fuel_efficiency_mpg  \n",
       "0            13.231729  \n",
       "1            13.688217  \n",
       "2            14.246341  \n",
       "3            16.912736  \n",
       "4            12.488369  "
      ]
     },
     "execution_count": 4,
     "metadata": {},
     "output_type": "execute_result"
    }
   ],
   "source": [
    "df.head()"
   ]
  },
  {
   "cell_type": "code",
   "execution_count": 5,
   "id": "e4c88ebc-400c-449e-83cf-4b4526e60828",
   "metadata": {},
   "outputs": [
    {
     "data": {
      "text/plain": [
       "(9704, 11)"
      ]
     },
     "execution_count": 5,
     "metadata": {},
     "output_type": "execute_result"
    }
   ],
   "source": [
    "df.shape"
   ]
  },
  {
   "cell_type": "code",
   "execution_count": 6,
   "id": "f3e6db12-5af3-4eac-b4dd-7fd3e0043a24",
   "metadata": {},
   "outputs": [],
   "source": [
    "# How many fuel types are presented in the dataset?"
   ]
  },
  {
   "cell_type": "code",
   "execution_count": 7,
   "id": "c7e4d727-a384-4c3e-a274-1abe01c85a46",
   "metadata": {},
   "outputs": [
    {
     "data": {
      "text/plain": [
       "array(['Gasoline', 'Diesel'], dtype=object)"
      ]
     },
     "execution_count": 7,
     "metadata": {},
     "output_type": "execute_result"
    }
   ],
   "source": [
    "df.fuel_type.unique()"
   ]
  },
  {
   "cell_type": "code",
   "execution_count": 8,
   "id": "e4e35a1c-2667-4ad8-89bb-a8dc304f0c6c",
   "metadata": {},
   "outputs": [
    {
     "data": {
      "text/plain": [
       "2"
      ]
     },
     "execution_count": 8,
     "metadata": {},
     "output_type": "execute_result"
    }
   ],
   "source": [
    "df.fuel_type.nunique()"
   ]
  },
  {
   "cell_type": "code",
   "execution_count": 9,
   "id": "16b60efd-d03d-4a98-90a8-c6e0c8d603d5",
   "metadata": {},
   "outputs": [],
   "source": [
    "# How many columns in the dataset have missing values?"
   ]
  },
  {
   "cell_type": "code",
   "execution_count": 10,
   "id": "224ca37c-af13-422f-8d53-31ee58ab686f",
   "metadata": {},
   "outputs": [
    {
     "data": {
      "text/plain": [
       "engine_displacement    False\n",
       "num_cylinders           True\n",
       "horsepower              True\n",
       "vehicle_weight         False\n",
       "acceleration            True\n",
       "model_year             False\n",
       "origin                 False\n",
       "fuel_type              False\n",
       "drivetrain             False\n",
       "num_doors               True\n",
       "fuel_efficiency_mpg    False\n",
       "dtype: bool"
      ]
     },
     "execution_count": 10,
     "metadata": {},
     "output_type": "execute_result"
    }
   ],
   "source": [
    "df.isnull().sum() != 0"
   ]
  },
  {
   "cell_type": "code",
   "execution_count": 11,
   "id": "9f7a4cbb-5a66-4f45-8d74-2112b02e963c",
   "metadata": {},
   "outputs": [],
   "source": [
    "# What's the maximum fuel efficiency of cars from Asia?"
   ]
  },
  {
   "cell_type": "code",
   "execution_count": 12,
   "id": "5c8176cf-e963-4520-b97b-4f2f60fbae16",
   "metadata": {},
   "outputs": [
    {
     "data": {
      "text/plain": [
       "np.float64(23.759122836520497)"
      ]
     },
     "execution_count": 12,
     "metadata": {},
     "output_type": "execute_result"
    }
   ],
   "source": [
    "df[df.origin == 'Asia'].fuel_efficiency_mpg.max()"
   ]
  },
  {
   "cell_type": "code",
   "execution_count": 13,
   "id": "d0c9f443-fc9d-43fb-ac04-d83649986859",
   "metadata": {},
   "outputs": [],
   "source": [
    "# Find the median value of the horsepower column in the dataset."
   ]
  },
  {
   "cell_type": "code",
   "execution_count": 14,
   "id": "b4d92eb0-262e-41c0-869f-6e189769aea9",
   "metadata": {},
   "outputs": [
    {
     "data": {
      "text/plain": [
       "np.float64(149.0)"
      ]
     },
     "execution_count": 14,
     "metadata": {},
     "output_type": "execute_result"
    }
   ],
   "source": [
    "df.horsepower.median()"
   ]
  },
  {
   "cell_type": "code",
   "execution_count": 15,
   "id": "ba3aeca7-6c00-4bc1-b9cf-778398afe675",
   "metadata": {},
   "outputs": [],
   "source": [
    "# Next, calculate the most frequent value of the same horsepower column."
   ]
  },
  {
   "cell_type": "code",
   "execution_count": 16,
   "id": "be349de1-d646-4bf2-945c-3b3558dde04d",
   "metadata": {},
   "outputs": [
    {
     "data": {
      "text/plain": [
       "np.int64(142)"
      ]
     },
     "execution_count": 16,
     "metadata": {},
     "output_type": "execute_result"
    }
   ],
   "source": [
    "df.groupby('horsepower').horsepower.count().max()"
   ]
  },
  {
   "cell_type": "code",
   "execution_count": 17,
   "id": "026c9a38-db05-4439-9f04-e2ae2c3f7532",
   "metadata": {},
   "outputs": [],
   "source": [
    "# temp_df = df.groupby('horsepower').horsepower.count()\n",
    "# temp_df[temp_df == 142]"
   ]
  },
  {
   "cell_type": "code",
   "execution_count": 18,
   "id": "9f486545-7464-4338-944e-6abf862e671b",
   "metadata": {},
   "outputs": [
    {
     "data": {
      "text/plain": [
       "0    152.0\n",
       "Name: horsepower, dtype: float64"
      ]
     },
     "execution_count": 18,
     "metadata": {},
     "output_type": "execute_result"
    }
   ],
   "source": [
    "df.horsepower.mode()"
   ]
  },
  {
   "cell_type": "code",
   "execution_count": 19,
   "id": "3320c6b9-5e87-4053-bc2f-76eda05b7112",
   "metadata": {},
   "outputs": [],
   "source": [
    "df.horsepower = df.horsepower.fillna(152)"
   ]
  },
  {
   "cell_type": "code",
   "execution_count": 20,
   "id": "53d705a3-85b1-4d5c-8585-92508f1119e3",
   "metadata": {},
   "outputs": [
    {
     "data": {
      "text/plain": [
       "np.float64(152.0)"
      ]
     },
     "execution_count": 20,
     "metadata": {},
     "output_type": "execute_result"
    }
   ],
   "source": [
    "df.horsepower.median()"
   ]
  },
  {
   "cell_type": "code",
   "execution_count": null,
   "id": "c6705636-8279-44b3-8933-eda0734848bc",
   "metadata": {},
   "outputs": [],
   "source": [
    "# Q7. Sum of weights"
   ]
  },
  {
   "cell_type": "code",
   "execution_count": 22,
   "id": "bba41a48-3481-4655-8995-db6e6f3d6d8d",
   "metadata": {},
   "outputs": [
    {
     "data": {
      "text/plain": [
       "(3247, 11)"
      ]
     },
     "execution_count": 22,
     "metadata": {},
     "output_type": "execute_result"
    }
   ],
   "source": [
    "# Select all the cars from Asia\n",
    "# Select only columns vehicle_weight and model_year\n",
    "# Select the first 7 values\n",
    "# Get the underlying NumPy array. Let's call it X.\n",
    "# Compute matrix-matrix multiplication between the transpose of X and X. To get the transpose, use X.T. Let's call the result XTX.\n",
    "# Invert XTX.\n",
    "# Create an array y with values [1100, 1300, 800, 900, 1000, 1100, 1200].\n",
    "# Multiply the inverse of XTX with the transpose of X, and then multiply the result by y. Call the result w.\n",
    "# What's the sum of all the elements of the result?\n",
    "\n",
    "asia_df = df[df.origin == 'Asia']\n",
    "asia_df.shape"
   ]
  },
  {
   "cell_type": "code",
   "execution_count": 30,
   "id": "80ad84c2-46ce-4efc-91c5-6b9c864c0d21",
   "metadata": {},
   "outputs": [],
   "source": [
    "asia_df = asia_df[['vehicle_weight', 'model_year']]\n",
    "# asia_df.head()\n",
    "asia_df = asia_df.head(7)\n",
    "asia_df_values = asia_df.values"
   ]
  },
  {
   "cell_type": "code",
   "execution_count": 41,
   "id": "68984e96-f589-45da-9ed7-87e29a14c4ae",
   "metadata": {},
   "outputs": [],
   "source": [
    "asia_df_values_t = asia_df_values.T\n",
    "dot_p = asia_df_values_t.dot(asia_df_values)\n",
    "\n",
    "dot_p_i = np.linalg.inv(dot_p)"
   ]
  },
  {
   "cell_type": "code",
   "execution_count": 42,
   "id": "6b35a967-38f8-433a-965e-4fc5256992be",
   "metadata": {},
   "outputs": [
    {
     "data": {
      "text/plain": [
       "array([1100, 1300,  800,  900, 1000, 1100, 1200])"
      ]
     },
     "execution_count": 42,
     "metadata": {},
     "output_type": "execute_result"
    }
   ],
   "source": [
    "y = np.array([1100, 1300, 800, 900, 1000, 1100, 1200])\n",
    "y"
   ]
  },
  {
   "cell_type": "code",
   "execution_count": 43,
   "id": "1d91d6a3-4c82-4bf0-a6f3-76bae75d6b33",
   "metadata": {},
   "outputs": [],
   "source": [
    "res = dot_p_i.dot(asia_df_values_t)"
   ]
  },
  {
   "cell_type": "code",
   "execution_count": 44,
   "id": "9feb277c-0027-48fd-8229-3b7d67c3a55b",
   "metadata": {},
   "outputs": [],
   "source": [
    "w = res.dot(y)"
   ]
  },
  {
   "cell_type": "code",
   "execution_count": 45,
   "id": "2c17e8d4-182e-490b-ad14-1d301bbe750a",
   "metadata": {},
   "outputs": [
    {
     "data": {
      "text/plain": [
       "array([0.01386421, 0.5049067 ])"
      ]
     },
     "execution_count": 45,
     "metadata": {},
     "output_type": "execute_result"
    }
   ],
   "source": [
    "w"
   ]
  },
  {
   "cell_type": "code",
   "execution_count": 46,
   "id": "d4d87e2e-5118-463b-8b5d-0e2deec99e84",
   "metadata": {},
   "outputs": [
    {
     "data": {
      "text/plain": [
       "np.float64(0.5187709081074016)"
      ]
     },
     "execution_count": 46,
     "metadata": {},
     "output_type": "execute_result"
    }
   ],
   "source": [
    "w.sum()"
   ]
  }
 ],
 "metadata": {
  "kernelspec": {
   "display_name": "Python 3 (ipykernel)",
   "language": "python",
   "name": "python3"
  },
  "language_info": {
   "codemirror_mode": {
    "name": "ipython",
    "version": 3
   },
   "file_extension": ".py",
   "mimetype": "text/x-python",
   "name": "python",
   "nbconvert_exporter": "python",
   "pygments_lexer": "ipython3",
   "version": "3.12.1"
  }
 },
 "nbformat": 4,
 "nbformat_minor": 5
}
